{
 "cells": [
  {
   "cell_type": "markdown",
   "metadata": {},
   "source": [
    "# Preface\n",
    "\n",
    "Engles Family Enterprises inc., client, and  Byrne's Brains, the developer, have partnered on the Pathways cloud machine learning development project, pursuant to Statement of Work number 29155, to develop a new product setup application which will feed the client's customer metrics into a cloud hosted machine learning model to predict a customer viability metric."
   ]
  },
  {
   "cell_type": "markdown",
   "metadata": {},
   "source": [
    "# Introduction\n",
    "\n",
    "Byrne's Brains is designing a cloud hosted machine learning model with a customized HTTP REST which will accept and classify anonyomized data in a highly parallized environment, from Engles family agents in the field.  The Cloud Interface Unit will be a compliant REST server designed to classify a collection of customer datappoints to give instant feedback to Engles Family agents to help in determinign the viability of a sales decision. \n",
    "\n",
    "This cloud hosted Machine Learning model will enable quick decision making abilities by instantly quantifying a collection of diverse metrics gathered by the client and then classifying this quantity into a prediction which will then be fed back over the API to the client's calling computer.\n",
    "\n",
    "This inaugural \"Request For Comment\", RFC, document  is being issued as a first step attempt to stimulate a dialog on  the emerging desgin of this cloud hosted machine learning model.  \n",
    "\n",
    "This paper will go over the initial design of the machine learning model, challenges that emerged in the development process, and proposals for hosting."
   ]
  },
  {
   "cell_type": "markdown",
   "metadata": {},
   "source": [
    "# The Data\n",
    "\n",
    "The client has generously provided the devleloper a collection of 160,000 anonoymized records which has been used in developing an initial classification model. "
   ]
  }
 ],
 "metadata": {
  "kernelspec": {
   "display_name": "Python 3",
   "language": "python",
   "name": "python3"
  },
  "language_info": {
   "codemirror_mode": {
    "name": "ipython",
    "version": 3
   },
   "file_extension": ".py",
   "mimetype": "text/x-python",
   "name": "python",
   "nbconvert_exporter": "python",
   "pygments_lexer": "ipython3",
   "version": "3.7.4"
  }
 },
 "nbformat": 4,
 "nbformat_minor": 2
}
